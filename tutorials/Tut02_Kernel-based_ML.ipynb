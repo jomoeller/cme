{
 "cells": [
  {
   "cell_type": "code",
   "execution_count": 29,
   "metadata": {},
   "outputs": [],
   "source": [
    "import pandas as pd\n",
    "import numpy as np\n",
    "import yaml\n",
    "import json\n",
    "import matplotlib.pyplot as plt\n",
    "%matplotlib inline"
   ]
  },
  {
   "cell_type": "markdown",
   "metadata": {},
   "source": [
    "# Kernel-based ML methods\n",
    "For both classification and regression problems it is often not possible to identify linear relationships in the data. In such cases, linear models cannot be successfully applied. One way to tackle this challenge is to employ the so-called kernel trick:\n",
    "while still using a linear classifier/regressor, the data is transformed in a higher-dimensional space, in which it is hoped to find linear relationships more easily. The type of transformation is defined by the so-called kernel function $k(x,x_i)$ where $x$ is an individual feature vector and $x_i$ are feature vectors used for training. \n",
    "\n",
    "In this tutorial we look at Support Vector Machines (SVMs) for classification (Support Vector Classification, SVC) as well as regression (Support Vector Regression, SVR). Both methods will be compared to other ML methods, namely K-Nearest Neighbor Classification and another kernel-based method, Kernel Ridge Regression. For classification we look at the different types of steel and for regression we aim at predicting \n",
    "\n",
    "In addition we introduce the common \"best practice\" in data science and machine learning by separating the data in training, validation, and testing data and using cross validation to find the best hyperparameters.\n",
    "\n",
    "Of course, we still work with our `steel-data` dataset:"
   ]
  },
  {
   "cell_type": "markdown",
   "metadata": {},
   "source": [
    "## Classification\n",
    "\n",
    "In the following, we aim at predicting the type of steel for a certain chemical concentration. Since we know the correct labels of our training data, this is called \"supervised\" machine learning.\n",
    "\n",
    "We start with defining both the feature vetors in `X` (chemical compositions):"
   ]
  },
  {
   "cell_type": "code",
   "execution_count": 30,
   "metadata": {},
   "outputs": [],
   "source": [
    "data = pd.DataFrame(yaml.load(open(\"steel-data.yaml\"), Loader=yaml.Loader))\n",
    "X = data[[col for col in data.columns if \"c(\" in col]]"
   ]
  },
  {
   "cell_type": "markdown",
   "metadata": {},
   "source": [
    "Every steel composition in the dataset is a called a *feature vector* because it is represented as a vector in the so-called feature space. The task of the classification algorithm is to introduce hyper planes into this vector space, which clusters vectors having the same label and separates vectors having different labels (reminder: in our case, the label is the \"type of steel\" associated with a certain chemical composition). During the training, the distance between each feature vector and this hyper plane is maximized. The resulting wide and empty boundary between the different clusters will later ensure that vectors, which do not correspond to the training data will be classified successfully.\n",
    "\n",
    "Obviously, for this we need the correct labels for the feature vectors:"
   ]
  },
  {
   "cell_type": "code",
   "execution_count": 31,
   "metadata": {},
   "outputs": [],
   "source": [
    "df = pd.read_json(\"TypeOfSteel.json\")\n",
    "y = df['Numerical label']\n",
    "y_classes, y_classes_counts = np.unique(df['Type of Steel'], return_counts = True)"
   ]
  },
  {
   "cell_type": "markdown",
   "metadata": {},
   "source": [
    "### Support Vector Classification (SVC)\n",
    "\n",
    "As a kernel-based ML method, SVCs employ the kernel trick: the feature space (also containing the training data) is transformed into a higher-dimensional space. In a space with sufficiently high dimensionality, also the most complex vector space may become linearly separable. For classification a separating hyper plane is then to be found so that different labels are most far away. Upon back transformation into the original feature space, the linear hyper plane becomes non-linear, probably even unsteady and not continuous.\n",
    "\n",
    "This approach has two problems: the transformation into higher dimensions is computationally expensive and the visualization of the resulting hyper plane in the original feature space is very complex and practically not usable for explaining the classification. This is where we use the kernel trick. If the separating hyper plane is described using a kernel function, which describes the hyper plane in a higher dimensional space but is still tractable in lower dimensions, it is possible to use the (back) transformations without actually performing them. In the case of SVCs, the hyper plane is described using a set of training vectors, the so-called support vectors, hence the name of the technique.\n",
    "\n",
    "Both linear and non-linear SVMs are adapted to the data at hand using certain hyperparameters, e.g. $C$ and $\\alpha$. They allow the classifier to wrongly classify certain samples while penalizing every such false classification. On the one hand, this reduces the potential of overfitting. On the other hand, the required number of support vectors is reduced which increases prediction performance. The number of hyperparameters depends on the type of kernel.\n",
    "\n",
    "Mathematically, the hyper plane is expressed by a sgn function and the hyperparameters by weights $\\alpha_i$ associated with each training data point $i$. Per default, the a [radial distribution function](http://scikit-learn.org/stable/modules/metrics.html#rbf-kernel) (`rbf`) is used as kernel:\n",
    "\n",
    "$y(x)=\\textrm{sgn}\\big(\\sum_{i=1}^{N}\\alpha_i y_i k_\\textrm{rbf}(x,x_i)+b\\big)$\n",
    "\n",
    "where the `rbf` kernel function is \n",
    "\n",
    "$k_\\textrm{rbf}(x, x_i)=\\textrm{exp}(-\\gamma\\|x-x_i\\|^2)$\n",
    "\n",
    "This means, that the predicted class $y(x)$ for an arbitrary feature vector $x$ is ultimately calculated from the weighted (with $\\alpha_i$) linear combination of all products between the training labels $y_i$ and the kernel functions of the training vectors $x_i$ and $x$. The weights $\\alpha_i$ control the importance of a training data point and the kernel function determines the similarity between $x$ and $x_i$. The width $\\gamma$ of the radial distribution function $k_{rbf}$ determines \"how far away\" two vectors are allowed to be for still being counted as \"similar\".\n",
    "\n",
    "One speciality of SVCs is that it is not needed for the definition of the hyper plane to consider all training vectors. Vectors that are further away from the hyper plane and are visually screened by from the hyper plane by other vectors, do not influence location and orientation of the hyper plane. In other words, only vectors that are close to the hyper plane are needed to describe the plane mathematically exact. These closest vectors are hence called support vectors because of their \"supporting\" function.\n",
    "\n",
    "This description is partially taken from [Wikipedia](https://de.wikipedia.org/wiki/Support_Vector_Machine), where even more details can be found about SVMs.\n",
    "\n",
    "In `scikit-learn` we load the `SVC` class, as follows:"
   ]
  },
  {
   "cell_type": "code",
   "execution_count": 32,
   "metadata": {},
   "outputs": [],
   "source": [
    "from sklearn.svm import SVC"
   ]
  },
  {
   "cell_type": "markdown",
   "metadata": {},
   "source": [
    "All implementation deatils of the SVC algorithms in `scikit-learn` may be found [here](http://scikit-learn.org/stable/modules/svm.html#svm-classification). \n",
    "\n",
    "In the present example the classifier will seek to distinguish between seven steel types. In such cases, `scikit-learn` uses the so-called one-against one aproach for multi-class classification. If $m$ is the number of distinct classes, m(m-1)/2 classifiers are trained to each distinguish between two classes. Consequently, for each feature vector the probabilities for all classes are obtained and the final prediction is the class with the highest probability.\n",
    "\n",
    "### K-Nearest Neighbors (KNN) classification\n",
    "The nearest-neighbor classification is one of the simplest classification methods. The classification is done by comparing the classes of the $K$ nearest neighbors. Per default, the most frequent class among the neighbors is chosen and returned as prediction. To determine the neighborhood either the Euclidean norm or the [Manhattan distance](https://de.wikipedia.org/wiki/Manhattan-Metrik) is used.\n",
    "\n",
    "Nearest-neighbor classification is implemented as [`KNeighborsClassifier`](http://scikit-learn.org/stable/modules/generated/sklearn.neighbors.KNeighborsClassifier.html)) in `scikit-learn`:"
   ]
  },
  {
   "cell_type": "code",
   "execution_count": 33,
   "metadata": {},
   "outputs": [],
   "source": [
    "from sklearn.neighbors import KNeighborsClassifier"
   ]
  },
  {
   "cell_type": "markdown",
   "metadata": {},
   "source": [
    "### Comparison of both classification methods\n",
    "\n",
    "In the following, SVC and KNN models are trained to predict the steel types based on their compositions:"
   ]
  },
  {
   "cell_type": "code",
   "execution_count": 34,
   "metadata": {},
   "outputs": [
    {
     "name": "stdout",
     "output_type": "stream",
     "text": [
      "Support Vector Classifier score: 0.85\n",
      "K-Nearest Neighbors Classifier score: 0.75\n"
     ]
    }
   ],
   "source": [
    "# Definition and initializiation of the classifiers:\n",
    "classifiers = [\n",
    "    ('Support Vector Classifier', SVC(gamma=0.1)),\n",
    "    ('K-Nearest Neighbors Classifier', KNeighborsClassifier()),\n",
    "]\n",
    "\n",
    "# Here we will store the predictions and the scores of the different models:\n",
    "predictions = {}\n",
    "scores = {}\n",
    "\n",
    "for i, (c_name, c) in enumerate(classifiers):\n",
    "    \n",
    "    # Fit and predict:\n",
    "    c.fit(X, y)\n",
    "    predictions[c_name] = c.predict(X)\n",
    "    \n",
    "    # Calculate and store the score:\n",
    "    scores[c_name] = np.round(c.score(X,y),2)\n",
    "    \n",
    "    # Print out the resulting score:\n",
    "    print(c_name, 'score:', scores[c_name])"
   ]
  },
  {
   "cell_type": "markdown",
   "metadata": {},
   "source": [
    "As metric to compare the two classifiers the `score` is obtained as average success rate for the correct prediction of individual steel types (so-called \"true positives\"). For illustration, we now calculate the score manually. We also store how good each classifier predicts each class, i.e. the \"true positives\" per class."
   ]
  },
  {
   "cell_type": "code",
   "execution_count": 35,
   "metadata": {},
   "outputs": [
    {
     "name": "stdout",
     "output_type": "stream",
     "text": [
      "Percentage of correctly classified samples (true positives):\n",
      " Support Vector Classifier : 0.85\n",
      " K-Nearest Neighbors Classifier : 0.75\n"
     ]
    }
   ],
   "source": [
    "# Here we store the percentage of true-positive classifications:\n",
    "tp_classifier = {}\n",
    "\n",
    "print('Percentage of correctly classified samples (true positives):')\n",
    "# Element-wise comparison of predictions to target classes => \"true positives\" (tp):\n",
    "for c_name, yp in predictions.items():\n",
    "    \n",
    "    yyp = np.array([True if k == l else False for k, l in zip(y, yp)])\n",
    "    \n",
    "    print('', c_name, ':', np.round(np.count_nonzero(yyp)/len(yyp), 2))\n",
    "    \n",
    "    tp_classifier[c_name] = []\n",
    "    \n",
    "    for class_no, class_label in enumerate(y_classes):\n",
    "        tp_classifier[c_name].append(np.sum(yyp[np.where(y == class_no)[0]]) / y_classes_counts[class_no])"
   ]
  },
  {
   "cell_type": "markdown",
   "metadata": {},
   "source": [
    "Zur besseren Übersichtlichkeit plotten wir die \"true positives\" jetzt noch für die beiden Klassifikatoren:"
   ]
  },
  {
   "cell_type": "code",
   "execution_count": 36,
   "metadata": {},
   "outputs": [
    {
     "data": {
      "image/png": "[encoded data removed]",
      "text/plain": [
       "<Figure size 432x288 with 1 Axes>"
      ]
     },
     "metadata": {
      "needs_background": "light"
     },
     "output_type": "display_data"
    }
   ],
   "source": [
    "colors = ['grey', 'green']\n",
    "for i, classifier in enumerate(classifiers):\n",
    "    c_name, c = classifier\n",
    "    plt.barh([j-0.35+i*0.35 for j in range(len(y_classes))], \n",
    "            width = tp_classifier[c_name], \n",
    "            height = 0.35, \n",
    "            label = c_name,\n",
    "            color = colors[i])\n",
    "    \n",
    "ax = plt.gca()\n",
    "ax.set_yticks([j for j in range(len(y_classes))])\n",
    "ax.set_yticklabels(y_classes)\n",
    "ax.invert_yaxis()\n",
    "ax.tick_params(axis = 'x', direction = 'in')\n",
    "ax.tick_params(axis = 'y', length = 0)\n",
    "plt.ylabel('Types of Steels')\n",
    "plt.xlabel('Percentage of True-Positive Classifications')\n",
    "plt.legend()\n",
    "plt.show()"
   ]
  },
  {
   "cell_type": "markdown",
   "metadata": {},
   "source": [
    "In the present example, the `SVC` method performs more successfully on the data than the KNN method. This was epxected from the tutorial on scaling. In particular, the ferritic and martensitic steels are quite similar w.r.t their chemical composition and a linear separability or a classification purely based on a similarity metric (as in the case of a KNN model) is not very promising.\n",
    "\n",
    "### Comparison of classification metrics for different scaling methods\n",
    "\n",
    "In the tutorial on scaling different scaling methods were compared. Now we evaluate the effect of the different scaling methods on the results of the classification.\n",
    "\n",
    "First, we load the YAML file with the scaled (and unscaled) data:"
   ]
  },
  {
   "cell_type": "code",
   "execution_count": 37,
   "metadata": {},
   "outputs": [],
   "source": [
    "with open('scaled_data.yaml', 'r') as f:\n",
    "    distributions = yaml.load(f, Loader=yaml.Loader)"
   ]
  },
  {
   "cell_type": "markdown",
   "metadata": {},
   "source": [
    "Then, the models are trained and the aggregated results are displayed as DataFrame:"
   ]
  },
  {
   "cell_type": "code",
   "execution_count": 38,
   "metadata": {},
   "outputs": [
    {
     "data": {
      "text/html": [
       "<div>\n",
       "<style scoped>\n",
       "    .dataframe tbody tr th:only-of-type {\n",
       "        vertical-align: middle;\n",
       "    }\n",
       "\n",
       "    .dataframe tbody tr th {\n",
       "        vertical-align: top;\n",
       "    }\n",
       "\n",
       "    .dataframe thead th {\n",
       "        text-align: right;\n",
       "    }\n",
       "</style>\n",
       "<table border=\"1\" class=\"dataframe\">\n",
       "  <thead>\n",
       "    <tr style=\"text-align: right;\">\n",
       "      <th></th>\n",
       "      <th>Classifier</th>\n",
       "      <th>MinMaxScaler</th>\n",
       "      <th>RobustScaler</th>\n",
       "      <th>StandardScaler</th>\n",
       "      <th>Unscaled Data</th>\n",
       "    </tr>\n",
       "  </thead>\n",
       "  <tbody>\n",
       "    <tr>\n",
       "      <th>0</th>\n",
       "      <td>Support Vector Classifier</td>\n",
       "      <td>0.40</td>\n",
       "      <td>0.9</td>\n",
       "      <td>0.88</td>\n",
       "      <td>0.85</td>\n",
       "    </tr>\n",
       "    <tr>\n",
       "      <th>1</th>\n",
       "      <td>K-Nearest Neighbors Classifier</td>\n",
       "      <td>0.85</td>\n",
       "      <td>0.8</td>\n",
       "      <td>0.84</td>\n",
       "      <td>0.75</td>\n",
       "    </tr>\n",
       "  </tbody>\n",
       "</table>\n",
       "</div>"
      ],
      "text/plain": [
       "                       Classifier  MinMaxScaler  RobustScaler  StandardScaler  \\\n",
       "0       Support Vector Classifier          0.40           0.9            0.88   \n",
       "1  K-Nearest Neighbors Classifier          0.85           0.8            0.84   \n",
       "\n",
       "   Unscaled Data  \n",
       "0           0.85  \n",
       "1           0.75  "
      ]
     },
     "metadata": {},
     "output_type": "display_data"
    }
   ],
   "source": [
    "results = {'Classifier': [c[0] for c in classifiers]}\n",
    "for d, X in distributions.items():\n",
    "    results[d] = []\n",
    "    for i, (c_name, c) in enumerate(classifiers):\n",
    "        c.fit(X,y)\n",
    "        yp = c.predict(X)\n",
    "        results[d].append(np.round(c.score(X,y), 2))\n",
    "\n",
    "df = pd.DataFrame(results)\n",
    "display(df)"
   ]
  },
  {
   "cell_type": "markdown",
   "metadata": {},
   "source": [
    "Now we plot the differences in the metrics w.r.t the unscaled data as reference:"
   ]
  },
  {
   "cell_type": "code",
   "execution_count": 39,
   "metadata": {},
   "outputs": [
    {
     "data": {
      "image/png": "[encoded data removed]",
      "text/plain": [
       "<Figure size 432x288 with 1 Axes>"
      ]
     },
     "metadata": {
      "needs_background": "light"
     },
     "output_type": "display_data"
    }
   ],
   "source": [
    "scaling_methods = [s for s in df.columns if s not in ['Classifier', 'Unscaled Data']]\n",
    "x = np.arange(len(scaling_methods))\n",
    "w = -0.35\n",
    "ax = plt.gca()\n",
    "for i, c_name in enumerate(df['Classifier']):\n",
    "    if i == 1:\n",
    "        w = -w\n",
    "    diff = [df.loc[i, s] - df.loc[i, 'Unscaled Data'] for s in scaling_methods]\n",
    "    ax.bar(x, diff, w, color = colors[i], label = c_name, align = 'edge')\n",
    "    \n",
    "ax.set_xlim(-0.5, 2.5)\n",
    "ax.plot(ax.get_xlim(), [0,0], 'black', lw = 1)\n",
    "ax.set_xticks([0,1,2])\n",
    "ax.set_xticklabels(scaling_methods)\n",
    "ax.tick_params(direction = 'in', top = True, right = True)\n",
    "ax.legend()\n",
    "plt.show()"
   ]
  },
  {
   "cell_type": "markdown",
   "metadata": {},
   "source": [
    "In the present case, in five out of six cases the classification result yielded better results for scaled than for unscaled data. The `MinMaxScaler` produces the worst (for `SVC`) as well as the best result (for KNN). As the name already implies, the effect of the `RobustScaler` is similar for both classification algorithms. The `StandardScaler` mostly increases the performance of the KNN classifier.\n",
    "\n",
    "To sum up: data scaling can make sense. However, the result does highly depend on the dataset and it can not be said *a priori* that one scaling methods works better than another one.\n",
    "\n",
    "The result that with both the `MinMaxScaler` and the `StandardScaler` the results are quite good corresponds well with the purely qualitative observation obtained from the PCA in the previous tutorial. However, in the present case it applies to the KNN method to greater extend than to the SVC method.\n",
    "\n",
    "For both classification methods, the default settings in `scikit-learn` were used. These defaults, however, do not need to be the best ones for the problem at hand. In the next section, we will see how the best set of these so-called hyperparameters is chosen.\n",
    "\n",
    "### Optimal hyperparameters\n",
    "\n",
    "As we know, SVMs have two important parameters, the penalty parameter $C$ and the kernel width $\\gamma$. The larger the become, the less universal will the parametrized model be:\n",
    "* $C$ determines the maximal slopes of hyper planes that separate the classes from each other. The smaller the value, the less sensitive the model reacts to deviations.\n",
    "* $\\gamma$ determines the width of the kernel function and thus how similar two feature vectors are. The smaller the value, the more similar are neighboring feature vectors. \n",
    "If $C$ and $\\gamma$ are high, the danger of over-fitting is high as well. This means that only the training data is predicted with high accuracy. The transferability to new, unseen data points will be very limited.\n",
    "\n",
    "To find the optimal set of hyperparameters, we vary both $C$ and $\\gamma$ on a double-logarithmic grid:"
   ]
  },
  {
   "cell_type": "code",
   "execution_count": 40,
   "metadata": {},
   "outputs": [
    {
     "data": {
      "image/png": "[encoded data removed]",
      "text/plain": [
       "<Figure size 288x288 with 2 Axes>"
      ]
     },
     "metadata": {
      "needs_background": "light"
     },
     "output_type": "display_data"
    },
    {
     "name": "stdout",
     "output_type": "stream",
     "text": [
      "Best classification score found for hyperparameters gamma = 1.0 and C = 10000: 1.0\n"
     ]
    }
   ],
   "source": [
    "gamma_list = np.logspace(-4, 0, 5)\n",
    "C_list = np.array(np.logspace(0, 4, 5), dtype = int)\n",
    "scores = np.zeros((len(gamma_list),len(C_list)))\n",
    "\n",
    "# Fit models for given hyperparameters:\n",
    "for i, gamma in enumerate(gamma_list):\n",
    "    for j, C in enumerate(C_list):\n",
    "        svc = SVC(gamma = gamma, C = C)\n",
    "        svc.fit(X, y)\n",
    "        yp = c.predict(X)\n",
    "        scores[i, j] = svc.score(X, y)\n",
    "        \n",
    "# Plot resulting scores with colorbar:\n",
    "plt.matshow(scores, vmin = 0, vmax = 1.0)\n",
    "cb = plt.colorbar(fraction = 0.046, pad = 0.04, label = 'Score')\n",
    "\n",
    "# Plot default parameters for comparison:\n",
    "idef = np.where(gamma_list == 0.1)[0]\n",
    "jdef = np.where(C_list == 10)[0]\n",
    "plt.scatter(jdef, idef, s = 100, marker = 'o', facecolors = 'none', edgecolors='black')\n",
    "\n",
    "# Plot the maximum score:\n",
    "imax, jmax = np.unravel_index(np.argmax(scores), scores.shape)\n",
    "plt.scatter([jmax], [imax], s = 200, marker = '*', facecolors = 'none', edgecolors='black')\n",
    "\n",
    "# Axis formatting:\n",
    "ax = plt.gca()\n",
    "ax.tick_params(direction = 'in', top = True, right = True)\n",
    "ax.xaxis.tick_bottom()\n",
    "ax.set_xlabel('C')\n",
    "ax.set_xticks([n for n in range(len(C_list))])\n",
    "ax.set_xticklabels(C_list)\n",
    "ax.set_ylabel('$\\gamma$')\n",
    "ax.set_yticks([n for n in range(len(gamma_list))])\n",
    "ax.set_yticklabels(gamma_list)\n",
    "\n",
    "plt.show()\n",
    "print(f\"Best classification score found for hyperparameters gamma = {gamma_list[imax]} \\\n",
    "and C = {C_list[jmax]}: {np.round(np.max(scores), 2)}\")"
   ]
  },
  {
   "cell_type": "markdown",
   "metadata": {},
   "source": [
    "In the plot, two hyperparameter combination are highlighted:\n",
    "* circle: the default values ($\\gamma$ = 1/10 and $C$ = 10) and\n",
    "* asterik: the optimal set of hyperparameters leading to the overall highest classification score ($\\gamma$ = 1 and $C$= 10,000)\n",
    "The score with the optimal set of hyperparameters is 1.0 meaning that 100% of predictions are correct. As noted before, the high values of hyperparameters and the score of 1.0 are clear indications that this model is largely overfitted and will poorly perform on new, unseen data. \n",
    "\n",
    "The best practice to reduce the risk of overfitting is to **never use the training score for the selection of hyperparameters**! Instead it is recommended to select the hyperparameters using *cross validation* (CV). We follow up on this in the next section.\n",
    "\n",
    "### Cross validation (CV)\n",
    "With n-fold cross validation, the data is split into n parts (\"folds\") containing each the same number of samples.\n",
    "Next, the selected ML model (e.g. SVC) is trained with a certain combination of hyperparameters n times on (n-1) parts of the data (the training data) and validated on the remaining 1/n of the data (the validation data set).\n",
    "The score, which is the used to select the hyperparameters, is determined as the average score on the n validation sets.\n",
    "\n",
    "The complete CV algorithm is implemented in `scikit-learn` as the utility function `cross_val_score`. We will see how to use this now: "
   ]
  },
  {
   "cell_type": "code",
   "execution_count": 41,
   "metadata": {},
   "outputs": [],
   "source": [
    "from sklearn.model_selection import cross_val_score"
   ]
  },
  {
   "cell_type": "markdown",
   "metadata": {},
   "source": [
    "In the following, we repeat the search for optimal hyperparameters. Instead of training on the whole dataset as before, we now use 5-fold cross validation to determine the score of the ML model. This means that we train on 64 samples (4/5 = 80% of the whole data) and determine the score on the remaining 16 samples (1/5 = 20 % of the whole data). For our dataset, n=5 is chosen so that the number of training data points is sufficiently high but there are still enough validation data points to cover all seven classes."
   ]
  },
  {
   "cell_type": "code",
   "execution_count": 42,
   "metadata": {},
   "outputs": [
    {
     "data": {
      "image/png": "[encoded data removed]",
      "text/plain": [
       "<Figure size 288x288 with 2 Axes>"
      ]
     },
     "metadata": {
      "needs_background": "light"
     },
     "output_type": "display_data"
    },
    {
     "name": "stdout",
     "output_type": "stream",
     "text": [
      "Best score with fivefold cross validation for hyperparameters gamma = 0.001 and C = 1000: 0.73\n"
     ]
    }
   ],
   "source": [
    "scores = np.zeros((len(gamma_list),len(C_list)))\n",
    "\n",
    "# Fit models for given hyperparameters:\n",
    "for i, gamma in enumerate(gamma_list):\n",
    "    for j, C in enumerate(C_list):\n",
    "        svc = SVC(gamma = gamma, C = C)\n",
    "        svc.fit(X, y)\n",
    "        \n",
    "        # Take the mean of the cross validation scores: \n",
    "        scores[i, j] = np.mean(cross_val_score(svc, X, y, cv = 5))\n",
    "\n",
    "# Plot resulting scores with colorbar:\n",
    "plt.matshow(scores, vmin = 0, vmax = 1.0)\n",
    "cb = plt.colorbar(fraction = 0.046, pad = 0.04, label = 'Score')\n",
    "\n",
    "# Plot default parameters for comparison:\n",
    "idef, jdef = np.where(gamma_list == 0.1)[0], np.where(C_list == 10)[0]\n",
    "plt.scatter(jdef, idef, s = 100, marker = 'o', facecolors = 'none', edgecolors='black')\n",
    "\n",
    "# Plot the maximum score:\n",
    "imax, jmax = np.unravel_index(np.argmax(scores), scores.shape)\n",
    "plt.scatter([jmax], [imax], s = 200, marker = '*', facecolors = 'none', edgecolors='black')\n",
    "\n",
    "# Axis formatting:\n",
    "ax = plt.gca()\n",
    "ax.tick_params(direction = 'in', top = True, right = True)\n",
    "ax.xaxis.tick_bottom()\n",
    "ax.set_xlabel('C')\n",
    "ax.set_xticks([n for n in range(len(C_list))])\n",
    "ax.set_xticklabels(C_list)\n",
    "ax.set_ylabel('$\\gamma$')\n",
    "ax.set_yticks([n for n in range(len(gamma_list))])\n",
    "ax.set_yticklabels(gamma_list)\n",
    "\n",
    "plt.show()\n",
    "print(f'Best score with fivefold cross validation for hyperparameters gamma = {gamma_list[imax]} and C = {C_list[jmax]}: {np.round(np.max(scores), 2)}')"
   ]
  },
  {
   "cell_type": "markdown",
   "metadata": {},
   "source": [
    "Obviously, with CV a score of 1.0 is not reachable anymore. This, of course, is much more realistic. Interestingly, the obtained CV score of 0.73 is not too far away from the score of 0.85 as obtained with the default parameters on the whole dataset. The CV score for this set of parameters is, however:"
   ]
  },
  {
   "cell_type": "code",
   "execution_count": 43,
   "metadata": {},
   "outputs": [
    {
     "name": "stdout",
     "output_type": "stream",
     "text": [
      "0.61\n"
     ]
    }
   ],
   "source": [
    "print(np.round(scores[idef, jdef], 2)[0])"
   ]
  },
  {
   "cell_type": "markdown",
   "metadata": {},
   "source": [
    "which is, of course, much worse than for the optimal set of hyperparameters.\n",
    "\n",
    "Finally, it should be noted that SVCs have - next to $C$ and $\\gamma$ other, non-continuous, hyperparameters, e.g. the kernel type or the exponent of polynominal kernels. In the present case, we have used the default `rbf` kernel.\n",
    "\n",
    "If course, CV can also be applied in the same way to the kNN model. In this case, the hyperparameters `leaf_size` and `n_neighbors` are varied:"
   ]
  },
  {
   "cell_type": "code",
   "execution_count": 44,
   "metadata": {},
   "outputs": [
    {
     "data": {
      "image/png": "[encoded data removed]",
      "text/plain": [
       "<Figure size 288x288 with 2 Axes>"
      ]
     },
     "metadata": {
      "needs_background": "light"
     },
     "output_type": "display_data"
    },
    {
     "name": "stdout",
     "output_type": "stream",
     "text": [
      "Best score with CV for hyperparameters leaf_size = 10 and n_neighbors = 7: 0.63\n"
     ]
    }
   ],
   "source": [
    "leaf_size_list = np.array([10, 20, 30, 40, 50])\n",
    "n_neighbors_list = np.array([3, 5, 7, 9, 11])\n",
    "scores = np.zeros((len(leaf_size_list),len(n_neighbors_list)))\n",
    "\n",
    "# Fit models for given hyperparameters:\n",
    "for i, leaf_size in enumerate(leaf_size_list):\n",
    "    for j, n_neighbors in enumerate(n_neighbors_list):\n",
    "        knn = KNeighborsClassifier(leaf_size=leaf_size, n_neighbors=n_neighbors)\n",
    "        knn.fit(X, y)\n",
    "        \n",
    "        # Take the mean of the cross validation scores: \n",
    "        scores[i, j] = np.mean(cross_val_score(knn, X, y, cv = 5))\n",
    "\n",
    "# Plot resulting scores with colorbar:\n",
    "plt.matshow(scores, vmin = 0, vmax = 1.0)\n",
    "cb = plt.colorbar(fraction = 0.046, pad = 0.04, label = 'Score')\n",
    "\n",
    "# Plot default parameters for comparison:\n",
    "idef, jdef = np.where(leaf_size_list == 30)[0], np.where(n_neighbors_list == 5)[0]\n",
    "plt.scatter(jdef, idef, s = 100, marker = 'o', facecolors = 'none', edgecolors='black')\n",
    "\n",
    "# Plot the maximum score:\n",
    "imax, jmax = np.unravel_index(np.argmax(scores), scores.shape)\n",
    "plt.scatter([jmax], [imax], s = 200, marker = '*', facecolors = 'none', edgecolors='black')\n",
    "\n",
    "# Axis formatting:\n",
    "ax = plt.gca()\n",
    "ax.tick_params(direction = 'in', top = True, right = True)\n",
    "ax.xaxis.tick_bottom()\n",
    "ax.set_xlabel('n_neighbors')\n",
    "ax.set_xticks([n for n in range(len(n_neighbors_list))])\n",
    "ax.set_xticklabels(n_neighbors_list)\n",
    "ax.set_ylabel('leaf_size')\n",
    "ax.set_yticks([n for n in range(len(leaf_size_list))])\n",
    "ax.set_yticklabels(leaf_size_list)\n",
    "\n",
    "plt.show()\n",
    "print(f'Best score with CV for hyperparameters leaf_size = {leaf_size_list[imax]} \\\n",
    "and n_neighbors = {n_neighbors_list[jmax]}: {np.round(np.max(scores), 2)}')"
   ]
  },
  {
   "cell_type": "markdown",
   "metadata": {},
   "source": [
    "Also in this case, the CV score with optimal hyperparameters is approx. 0.1 worse than the score determined without CV with default parameters. In comparison to the SVC, the kNN algorithm appears less sensitive to the choice of hyperparameters so that the CV score for the default hyperparameters (`leaf_size=30`, `n_neighbors=5`) is only slightly worse than for the optimal parameter set:"
   ]
  },
  {
   "cell_type": "code",
   "execution_count": 45,
   "metadata": {},
   "outputs": [
    {
     "name": "stdout",
     "output_type": "stream",
     "text": [
      "0.57\n"
     ]
    }
   ],
   "source": [
    "print(np.round(scores[idef, jdef], 2)[0])"
   ]
  },
  {
   "cell_type": "markdown",
   "metadata": {},
   "source": [
    "The so-obtained CV scores make it possible to select the optimal set of hyperparameters for a given ML model. This, however, does not permit a statement about how good the model will perform on new, unseen data. Intuitively, one may assume that this information is already included in the CV score due to the distinction between training and validation set. However, the data from the validation sets were already used to determine the optimal hyperparameters. The CV score therefore only ensures that the chosen hyperparameters perform best on the validation set(s). This is no answer to the question how good it will perform on _really_ unseen data!\n",
    "\n",
    "The following section will explain how this question can be addressed.\n",
    "\n",
    "### Split into train (CV) data and test data\n",
    "\n",
    "For the reasons mentioned above, it is best practice in ML model developemnt to split the whole data into training and testing data and only use the training data for CV. The so-obtained model is then tested for transferability to new, unseen data on the test data set. Commonly, the size of the test set should be between 10 and 30 %. Here, we chose 15 % because the dataset only contains a limited number of samples:"
   ]
  },
  {
   "cell_type": "code",
   "execution_count": 46,
   "metadata": {},
   "outputs": [
    {
     "name": "stdout",
     "output_type": "stream",
     "text": [
      "Number of samples in training data set: 68\n",
      "Number of samples in testing data set: 13\n"
     ]
    }
   ],
   "source": [
    "from sklearn.model_selection import train_test_split\n",
    "X_train, X_test, y_train, y_test = train_test_split(X, y, test_size=0.15, random_state=0)\n",
    "print(f'Number of samples in training data set: {len(X_train)}') \n",
    "print(f'Number of samples in testing data set: {len(X_test)}')"
   ]
  },
  {
   "cell_type": "markdown",
   "metadata": {},
   "source": [
    "In addition, `scikit-learn` offers a helpful utility function called `GridSearchCV`. It is used for the search for the optimal set of hyperparameters instead of our self-implemented code above. Instead of `cv=5` we use now `cv=3` to yield suffiently many samples in the validation sets:"
   ]
  },
  {
   "cell_type": "code",
   "execution_count": 47,
   "metadata": {},
   "outputs": [],
   "source": [
    "from sklearn.model_selection import GridSearchCV\n",
    "cgs = GridSearchCV(estimator=SVC(), param_grid=dict(C=C_list, gamma=gamma_list), n_jobs=-1, cv=3)"
   ]
  },
  {
   "cell_type": "markdown",
   "metadata": {},
   "source": [
    "Now we train the models and determine the optimal set of hyperparameters, for which the CV score is highest: "
   ]
  },
  {
   "cell_type": "code",
   "execution_count": 48,
   "metadata": {},
   "outputs": [
    {
     "name": "stdout",
     "output_type": "stream",
     "text": [
      "Best CV-Score (= 0.81) on training data (N_train = 68) for the SVC hyperparameters gamma = 0.0001 and C = 10000)\n"
     ]
    }
   ],
   "source": [
    "cgs.fit(X_train, y_train)\n",
    "print(f'Best CV-Score (= {np.round(cgs.best_score_, 2)}) on training data (N_train = {len(X_train)}) \\\n",
    "for the SVC hyperparameters gamma = {cgs.best_estimator_.gamma} and C = {cgs.best_estimator_.C})')"
   ]
  },
  {
   "cell_type": "markdown",
   "metadata": {},
   "source": [
    "With this set of hyperparameters we are now predicting the labels of the test data set and determine the respective score:"
   ]
  },
  {
   "cell_type": "code",
   "execution_count": 49,
   "metadata": {},
   "outputs": [
    {
     "name": "stdout",
     "output_type": "stream",
     "text": [
      "Score on the testing data (best hyperparameters, determined using CV on 85 % of the whole data set): 0.85\n"
     ]
    }
   ],
   "source": [
    "print('Score on the testing data (best hyperparameters, determined using CV on 85 % of the whole data set):', \n",
    "      np.round(cgs.best_estimator_.score(X_test, y_test), 2) )"
   ]
  },
  {
   "cell_type": "markdown",
   "metadata": {},
   "source": [
    "This score is even higher than the CV score, which makes optimistic that the trained model will deliver reasonable results on new, unseen data.\n",
    "\n",
    "For comparison, the test score for the optimal set of hyperparameters without separation in training and testing data is, as follows:"
   ]
  },
  {
   "cell_type": "code",
   "execution_count": 50,
   "metadata": {},
   "outputs": [
    {
     "name": "stdout",
     "output_type": "stream",
     "text": [
      "Score on the  den testing data (best hyperparameters, determined using CV on the whole data set): 0.85\n"
     ]
    }
   ],
   "source": [
    "svc = SVC(C=1000, gamma=0.001)\n",
    "svc.fit(X_train, y_train)\n",
    "print('Score on the  den testing data (best hyperparameters, determined using CV on the whole data set):', \n",
    "      np.round(svc.score(X_test, y_test), 2))"
   ]
  },
  {
   "cell_type": "markdown",
   "metadata": {},
   "source": [
    "Interestingly, we obtain the same score as with the model trained on 85 % of the data using CV. This, of course, is only coincidental. And, please note, that in this case the test data has been used two times: during the determination of the optimal set of parameters _and_ for determining the test score.\n",
    "\n",
    "The score with with the default parameter set ($C$ = 10 und $\\gamma$ = 0.1) is worse:"
   ]
  },
  {
   "cell_type": "code",
   "execution_count": 51,
   "metadata": {},
   "outputs": [
    {
     "name": "stdout",
     "output_type": "stream",
     "text": [
      "Score on the training data (default hyperparameters): 0.77\n"
     ]
    }
   ],
   "source": [
    "svc = SVC(gamma=0.1)\n",
    "svc.fit(X_train, y_train)\n",
    "print('Score on the training data (default hyperparameters):', np.round(svc.score(X_test, y_test), 2))"
   ]
  },
  {
   "cell_type": "markdown",
   "metadata": {},
   "source": [
    "## Regression\n",
    "\n",
    "Now we move towards kenel-based _regression_ methods.\n",
    "\n",
    "### Support Vector Regression (SVR)\n",
    "SVR works similar to SVC. The main difference is that no sgn function is used and that the training labels $y_i$ are replaced by weights $w_i=\\alpha_i y_i$ where $y_i$ are the target values to learn. Implementation details can be found [here](http://scikit-learn.org/stable/modules/generated/sklearn.svm.SVR.html). A [comparison](http://scikit-learn.org/stable/auto_examples/svm/plot_svm_regression.html) of the different kernel functions can also be found.\n",
    "\n",
    "### Kernel Ridge Regression (KRR)\n",
    "KRR combines regression with the method of least squares and [L2 norm](https://de.wikipedia.org/wiki/Euklidische_Norm) regularisation (this method is called \"ridge regression\") with the kernel trick. Simply speaking, the method of least squares is used to minimize the error between the learned function and the training values while the regularisation is used to prevent the learned function from \"wildly\" oscillating between the training values. Regularisation is a prevention measure against over-fitting. Details can be found e.g. [here](http://www.chioka.in/differences-between-l1-and-l2-as-loss-function-and-regularization/). Implementation details can be found [here](http://scikit-learn.org/stable/modules/generated/sklearn.kernel_ridge.KernelRidge.html#sklearn.kernel_ridge.KernelRidge).\n",
    "\n",
    "### Comparison of regression methods\n",
    "A comparison between the learning methods is provided [here](http://scikit-learn.org/stable/modules/kernel_ridge.html) through the `scikit-learn` community. \n",
    "\n",
    "We will now focus on predicting some mechanical properties using SVR and KRR. For comparison, we also provide results obtained with a non-linear, neural-network based, regression method called [Multilayer Perceptron Regressor](http://scikit-learn.org/stable/modules/generated/sklearn.neural_network.MLPRegressor.html).\n",
    "\n",
    "Of course, we use apply all the best practices learned so far. I.e., we start with separating training and testing data set and use `GridSearchCV` to find the optimal set of hyperparameters. As evaluation metric we use the [mean absolute error](https://de.wikipedia.org/wiki/Mittlerer_absoluter_Fehler) (MAE) and the [Pearson correlation coefficient](https://de.wikipedia.org/wiki/Korrelationskoeffizient) ($\\rho$)."
   ]
  },
  {
   "cell_type": "code",
   "execution_count": 52,
   "metadata": {},
   "outputs": [],
   "source": [
    "# Import the scikit-learn classes to be used for regression:\n",
    "from sklearn.svm import SVR\n",
    "from sklearn.kernel_ridge import KernelRidge\n",
    "from sklearn.neural_network import MLPRegressor\n",
    "\n",
    "# Import the metrics:\n",
    "from scipy.stats import pearsonr\n",
    "from sklearn.metrics import mean_absolute_error\n",
    "\n",
    "# Define the parameters for the grid search:\n",
    "C_list = np.logspace(-1,5,7)\n",
    "gamma_list = np.logspace(-3,0,4)\n",
    "alpha_list = np.logspace(-6,1,8)\n",
    "\n",
    "# Define the regressors to be used via the GridSearchCV interface:\n",
    "regressors = [\n",
    "    ('Support Vector Regression', GridSearchCV(estimator=SVR(epsilon=1), n_jobs=-1, cv=3,\n",
    "                                               param_grid=dict(C=C_list, gamma=gamma_list))\n",
    "    ),\n",
    "    ('Kernel Ridge Regression', GridSearchCV(estimator=KernelRidge(kernel='laplacian'), cv=3, \n",
    "                                             param_grid=dict(gamma=gamma_list, alpha=alpha_list)),\n",
    "    ),\n",
    "    ('Multi-layer Perceptron', GridSearchCV(estimator=MLPRegressor(solver = 'lbfgs', random_state = 0, \n",
    "                                                                   max_iter=2e4),\n",
    "                                         param_grid=dict(hidden_layer_sizes=[(30,), (60,), (90,)],\n",
    "                                                        alpha=alpha_list)))        \n",
    "]"
   ]
  },
  {
   "cell_type": "markdown",
   "metadata": {},
   "source": [
    "For simplicity, we limit the analysis to the data scaled with the `RobustScaler` (in the hope that the resulting ML model will indeed be \"robust\"). The properties, we aimt at predicting, are the elongation at fracture A (%), the yield strength, and the ultimate tensile stress (both in MPa). "
   ]
  },
  {
   "cell_type": "code",
   "execution_count": 53,
   "metadata": {},
   "outputs": [],
   "source": [
    "# Let's use the scaled concentrations as feature matrix:\n",
    "concentrations = pd.DataFrame(distributions['RobustScaler'])\n",
    "\n",
    "# Let's use try to predict fracture strain, yield strength, and ultimate tensile strength:\n",
    "properties = pd.DataFrame(data[[\"A (%)\", \"Rp0.2 (MPa)\", \"Rm (MPa)\"]])"
   ]
  },
  {
   "cell_type": "markdown",
   "metadata": {},
   "source": [
    "As for the classification, we will now train ML models for the three properties, select the best set of parameters using `GridSearchCV`, and plot the predictions on the training and testing data (this can take several minutes):"
   ]
  },
  {
   "cell_type": "code",
   "execution_count": 54,
   "metadata": {
    "scrolled": true
   },
   "outputs": [
    {
     "name": "stdout",
     "output_type": "stream",
     "text": [
      "Building models for A (%):\n",
      "... using Support Vector Regression\n",
      "... using Kernel Ridge Regression\n",
      "... using Multi-layer Perceptron\n",
      "Building models for Rp0.2 (MPa):\n",
      "... using Support Vector Regression\n",
      "... using Kernel Ridge Regression\n",
      "... using Multi-layer Perceptron\n",
      "Building models for Rm (MPa):\n",
      "... using Support Vector Regression\n",
      "... using Kernel Ridge Regression\n",
      "... using Multi-layer Perceptron\n"
     ]
    },
    {
     "data": {
      "image/png": "[encoded data removed]",
      "text/plain": [
       "<Figure size 648x648 with 9 Axes>"
      ]
     },
     "metadata": {
      "needs_background": "light"
     },
     "output_type": "display_data"
    }
   ],
   "source": [
    "# We will store the results as (ordered) dictionaries in the following list:\n",
    "from collections import OrderedDict\n",
    "results = []\n",
    "\n",
    "# Make a beautiful plot:\n",
    "fig, axes = plt.subplots(3, 3, figsize = (9,9))\n",
    "    \n",
    "# Loop over the properties to be predicted:\n",
    "for j, (p, y) in enumerate(properties.items()):\n",
    "    \n",
    "    print(f\"Building models for {p}:\")\n",
    "    \n",
    "    # Drop NaN values in both arrays:\n",
    "    y = y.dropna()\n",
    "    X = concentrations.iloc[y.index]\n",
    "\n",
    "    # Split data into training and test data:\n",
    "    X_train, X_test, y_train, y_test = train_test_split(X, y, test_size=0.15, random_state=42)   \n",
    " \n",
    "    # Loop over the regressors:\n",
    "    for i, (r_name, regressor) in enumerate(regressors):      \n",
    "            \n",
    "        print(f\"... using {r_name}\")\n",
    "        \n",
    "        # Do the grid search:\n",
    "        regressor.fit(X_train, y_train)\n",
    "        \n",
    "        # Get the predictions for the training and the test data:\n",
    "        yp_train = regressor.predict(X_train)\n",
    "        yp_test = regressor.predict(X_test)\n",
    "\n",
    "        # Store results in dictionary:\n",
    "        results.append(OrderedDict({\n",
    "            'Regressor': r_name, 'Property': p, 'N_train': len(X_train), 'N_test': len(X_test),  \n",
    "            'Rho (train)': round(pearsonr(y_train, yp_train)[0],2),\n",
    "            'Rho (test)': round(pearsonr(y_test, yp_test)[0],2),\n",
    "            'MAE (train)': round(mean_absolute_error(y_train, yp_train),1),\n",
    "            'MAE (test)': round(mean_absolute_error(y_test, yp_test),1)\n",
    "        }))\n",
    "        results[-1].update(regressor.best_params_)\n",
    "        \n",
    "        # Make a nice plot that compares the predictions (y-axis) to the input data (x-axis):\n",
    "        \n",
    "        if 'MPa' in p:\n",
    "            lim = (0, 1250)\n",
    "        else:\n",
    "            lim = (0, 100)\n",
    "        \n",
    "        ax = axes[j,i]\n",
    "        ax.plot(lim, lim, '--', c = 'grey', zorder = 0)\n",
    "        ax.scatter(y_train, yp_train, c = 'black', \n",
    "                   label = r'Training: $\\mathregular{\\rho}$='+str(results[-1]['Rho (train)']))\n",
    "        ax.scatter(y_test, yp_test, marker= 's', edgecolors = 'green', \n",
    "                   label = r'Testing: $\\mathregular{\\rho}$='+str(results[-1]['Rho (test)']), c = 'white')\n",
    "        ax.set_xlabel(p)\n",
    "        ax.set_ylabel('Predicted '+p)\n",
    "        ax.set_xlim(lim)\n",
    "        ax.set_ylim(lim)\n",
    "        ax.tick_params(direction = 'in')\n",
    "        ax.locator_params(nbins = 5)\n",
    "        if i == 1:\n",
    "            ax.set_title('ML Predictions of ' + p + '\\n' + r_name)\n",
    "        else:\n",
    "            ax.set_title(r_name)\n",
    "        ax.legend(loc = 'upper left')\n",
    "        \n",
    "plt.tight_layout()\n",
    "plt.show()"
   ]
  },
  {
   "cell_type": "markdown",
   "metadata": {},
   "source": [
    "The exact numbers and optimal hyperparameters can be found in the following table:"
   ]
  },
  {
   "cell_type": "code",
   "execution_count": 55,
   "metadata": {},
   "outputs": [
    {
     "data": {
      "text/html": [
       "<div>\n",
       "<style scoped>\n",
       "    .dataframe tbody tr th:only-of-type {\n",
       "        vertical-align: middle;\n",
       "    }\n",
       "\n",
       "    .dataframe tbody tr th {\n",
       "        vertical-align: top;\n",
       "    }\n",
       "\n",
       "    .dataframe thead th {\n",
       "        text-align: right;\n",
       "    }\n",
       "</style>\n",
       "<table border=\"1\" class=\"dataframe\">\n",
       "  <thead>\n",
       "    <tr style=\"text-align: right;\">\n",
       "      <th></th>\n",
       "      <th>Regressor</th>\n",
       "      <th>Property</th>\n",
       "      <th>N_train</th>\n",
       "      <th>N_test</th>\n",
       "      <th>Rho (train)</th>\n",
       "      <th>Rho (test)</th>\n",
       "      <th>MAE (train)</th>\n",
       "      <th>MAE (test)</th>\n",
       "      <th>C</th>\n",
       "      <th>gamma</th>\n",
       "      <th>alpha</th>\n",
       "      <th>hidden_layer_sizes</th>\n",
       "    </tr>\n",
       "  </thead>\n",
       "  <tbody>\n",
       "    <tr>\n",
       "      <th>0</th>\n",
       "      <td>Support Vector Regression</td>\n",
       "      <td>A (%)</td>\n",
       "      <td>66</td>\n",
       "      <td>12</td>\n",
       "      <td>0.94</td>\n",
       "      <td>0.93</td>\n",
       "      <td>2.7</td>\n",
       "      <td>4.6</td>\n",
       "      <td>100.0</td>\n",
       "      <td>0.100</td>\n",
       "      <td>NaN</td>\n",
       "      <td>NaN</td>\n",
       "    </tr>\n",
       "    <tr>\n",
       "      <th>1</th>\n",
       "      <td>Kernel Ridge Regression</td>\n",
       "      <td>A (%)</td>\n",
       "      <td>66</td>\n",
       "      <td>12</td>\n",
       "      <td>0.96</td>\n",
       "      <td>0.95</td>\n",
       "      <td>2.3</td>\n",
       "      <td>3.9</td>\n",
       "      <td>NaN</td>\n",
       "      <td>0.001</td>\n",
       "      <td>0.001000</td>\n",
       "      <td>NaN</td>\n",
       "    </tr>\n",
       "    <tr>\n",
       "      <th>2</th>\n",
       "      <td>Multi-layer Perceptron</td>\n",
       "      <td>A (%)</td>\n",
       "      <td>66</td>\n",
       "      <td>12</td>\n",
       "      <td>0.94</td>\n",
       "      <td>0.92</td>\n",
       "      <td>3.1</td>\n",
       "      <td>5.3</td>\n",
       "      <td>NaN</td>\n",
       "      <td>NaN</td>\n",
       "      <td>10.000000</td>\n",
       "      <td>(60,)</td>\n",
       "    </tr>\n",
       "    <tr>\n",
       "      <th>3</th>\n",
       "      <td>Support Vector Regression</td>\n",
       "      <td>Rp0.2 (MPa)</td>\n",
       "      <td>66</td>\n",
       "      <td>12</td>\n",
       "      <td>0.84</td>\n",
       "      <td>0.83</td>\n",
       "      <td>19.9</td>\n",
       "      <td>37.5</td>\n",
       "      <td>1000.0</td>\n",
       "      <td>0.100</td>\n",
       "      <td>NaN</td>\n",
       "      <td>NaN</td>\n",
       "    </tr>\n",
       "    <tr>\n",
       "      <th>4</th>\n",
       "      <td>Kernel Ridge Regression</td>\n",
       "      <td>Rp0.2 (MPa)</td>\n",
       "      <td>66</td>\n",
       "      <td>12</td>\n",
       "      <td>0.97</td>\n",
       "      <td>0.81</td>\n",
       "      <td>17.8</td>\n",
       "      <td>39.9</td>\n",
       "      <td>NaN</td>\n",
       "      <td>0.010</td>\n",
       "      <td>0.010000</td>\n",
       "      <td>NaN</td>\n",
       "    </tr>\n",
       "    <tr>\n",
       "      <th>5</th>\n",
       "      <td>Multi-layer Perceptron</td>\n",
       "      <td>Rp0.2 (MPa)</td>\n",
       "      <td>66</td>\n",
       "      <td>12</td>\n",
       "      <td>1.00</td>\n",
       "      <td>0.85</td>\n",
       "      <td>6.5</td>\n",
       "      <td>33.1</td>\n",
       "      <td>NaN</td>\n",
       "      <td>NaN</td>\n",
       "      <td>10.000000</td>\n",
       "      <td>(30,)</td>\n",
       "    </tr>\n",
       "    <tr>\n",
       "      <th>6</th>\n",
       "      <td>Support Vector Regression</td>\n",
       "      <td>Rm (MPa)</td>\n",
       "      <td>66</td>\n",
       "      <td>12</td>\n",
       "      <td>1.00</td>\n",
       "      <td>0.79</td>\n",
       "      <td>2.7</td>\n",
       "      <td>40.9</td>\n",
       "      <td>10000.0</td>\n",
       "      <td>1.000</td>\n",
       "      <td>NaN</td>\n",
       "      <td>NaN</td>\n",
       "    </tr>\n",
       "    <tr>\n",
       "      <th>7</th>\n",
       "      <td>Kernel Ridge Regression</td>\n",
       "      <td>Rm (MPa)</td>\n",
       "      <td>66</td>\n",
       "      <td>12</td>\n",
       "      <td>1.00</td>\n",
       "      <td>0.89</td>\n",
       "      <td>0.7</td>\n",
       "      <td>34.5</td>\n",
       "      <td>NaN</td>\n",
       "      <td>0.010</td>\n",
       "      <td>0.000001</td>\n",
       "      <td>NaN</td>\n",
       "    </tr>\n",
       "    <tr>\n",
       "      <th>8</th>\n",
       "      <td>Multi-layer Perceptron</td>\n",
       "      <td>Rm (MPa)</td>\n",
       "      <td>66</td>\n",
       "      <td>12</td>\n",
       "      <td>1.00</td>\n",
       "      <td>0.93</td>\n",
       "      <td>0.8</td>\n",
       "      <td>44.4</td>\n",
       "      <td>NaN</td>\n",
       "      <td>NaN</td>\n",
       "      <td>0.000001</td>\n",
       "      <td>(90,)</td>\n",
       "    </tr>\n",
       "  </tbody>\n",
       "</table>\n",
       "</div>"
      ],
      "text/plain": [
       "                   Regressor     Property  N_train  N_test  Rho (train)  \\\n",
       "0  Support Vector Regression        A (%)       66      12         0.94   \n",
       "1    Kernel Ridge Regression        A (%)       66      12         0.96   \n",
       "2     Multi-layer Perceptron        A (%)       66      12         0.94   \n",
       "3  Support Vector Regression  Rp0.2 (MPa)       66      12         0.84   \n",
       "4    Kernel Ridge Regression  Rp0.2 (MPa)       66      12         0.97   \n",
       "5     Multi-layer Perceptron  Rp0.2 (MPa)       66      12         1.00   \n",
       "6  Support Vector Regression     Rm (MPa)       66      12         1.00   \n",
       "7    Kernel Ridge Regression     Rm (MPa)       66      12         1.00   \n",
       "8     Multi-layer Perceptron     Rm (MPa)       66      12         1.00   \n",
       "\n",
       "   Rho (test)  MAE (train)  MAE (test)        C  gamma      alpha  \\\n",
       "0        0.93          2.7         4.6    100.0  0.100        NaN   \n",
       "1        0.95          2.3         3.9      NaN  0.001   0.001000   \n",
       "2        0.92          3.1         5.3      NaN    NaN  10.000000   \n",
       "3        0.83         19.9        37.5   1000.0  0.100        NaN   \n",
       "4        0.81         17.8        39.9      NaN  0.010   0.010000   \n",
       "5        0.85          6.5        33.1      NaN    NaN  10.000000   \n",
       "6        0.79          2.7        40.9  10000.0  1.000        NaN   \n",
       "7        0.89          0.7        34.5      NaN  0.010   0.000001   \n",
       "8        0.93          0.8        44.4      NaN    NaN   0.000001   \n",
       "\n",
       "  hidden_layer_sizes  \n",
       "0                NaN  \n",
       "1                NaN  \n",
       "2              (60,)  \n",
       "3                NaN  \n",
       "4                NaN  \n",
       "5              (30,)  \n",
       "6                NaN  \n",
       "7                NaN  \n",
       "8              (90,)  "
      ]
     },
     "metadata": {},
     "output_type": "display_data"
    }
   ],
   "source": [
    "# Convert the dictionary with the results to a DataFrame:\n",
    "df = pd.DataFrame.from_records(results)\n",
    "display(df)"
   ]
  },
  {
   "cell_type": "markdown",
   "metadata": {},
   "source": [
    "Without going into too much details here, one has to state that the predictions are suprisingly good. Especially, when considering \n",
    "* that only the chemical composition is used for prediction and \n",
    "* that only 66 samples were used for training.\n",
    "\n",
    "All in all, the best predictions **on the test data** are on average: "
   ]
  },
  {
   "cell_type": "code",
   "execution_count": 56,
   "metadata": {},
   "outputs": [
    {
     "name": "stdout",
     "output_type": "stream",
     "text": [
      "...for A better than 4 (%)\n",
      "...for Rp0.2 better than 33 (MPa)\n",
      "...for Rm better than 34 (MPa)\n"
     ]
    }
   ],
   "source": [
    "for p in df.Property.unique():\n",
    "    print(f\"...for {p.split()[0]} better than {round(np.min(df[df.Property == p]['MAE (test)']))} {p.split()[-1]}\")"
   ]
  },
  {
   "cell_type": "markdown",
   "metadata": {},
   "source": [
    "Finally it is noted that the individual test predictions will vary if the `random_split` used in `train_test_split` is changed. This problem can only be overcome by more data or by non-randomly splitting the data."
   ]
  },
  {
   "cell_type": "code",
   "execution_count": null,
   "metadata": {},
   "outputs": [],
   "source": []
  }
 ],
 "metadata": {
  "kernelspec": {
   "display_name": "Python 3",
   "language": "python",
   "name": "python3"
  },
  "language_info": {
   "codemirror_mode": {
    "name": "ipython",
    "version": 3
   },
   "file_extension": ".py",
   "mimetype": "text/x-python",
   "name": "python",
   "nbconvert_exporter": "python",
   "pygments_lexer": "ipython3",
   "version": "3.8.9"
  }
 },
 "nbformat": 4,
 "nbformat_minor": 2
}
