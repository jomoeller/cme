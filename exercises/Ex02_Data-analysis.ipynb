{
 "cells": [
  {
   "cell_type": "code",
   "execution_count": 1,
   "metadata": {},
   "outputs": [],
   "source": [
    "import pandas as pd\n",
    "import matplotlib.pyplot as plt"
   ]
  },
  {
   "attachments": {},
   "cell_type": "markdown",
   "metadata": {},
   "source": [
    "## Exercise 2: Data analysis\n",
    "Since there is no steel available that fulfills the requirements (Rm $\\ge$ 1000 MPa and A $\\ge$ 25 %) you are asked to analyse the steel manufacturer's data in more detail. Can you observe trends in the data w.r.t the influence of the chemical composition on the mechanical properties that allow to define a search space where a new material with the desired properties would be located?\n",
    "\n",
    "First, create a pair correlation (\"scatter\") plot for the whole data set.\n",
    "\n",
    "Next, calculate and visualize the Pearson correlation coefficients between the chemical elements and the relevant mechanical properties."
   ]
  }
 ],
 "metadata": {
  "kernelspec": {
   "display_name": "Python 3",
   "language": "python",
   "name": "python3"
  },
  "language_info": {
   "codemirror_mode": {
    "name": "ipython",
    "version": 3
   },
   "file_extension": ".py",
   "mimetype": "text/x-python",
   "name": "python",
   "nbconvert_exporter": "python",
   "pygments_lexer": "ipython3",
   "version": "3.8.9"
  }
 },
 "nbformat": 4,
 "nbformat_minor": 2
}
