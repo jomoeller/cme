{
 "cells": [
  {
   "cell_type": "code",
   "execution_count": 29,
   "metadata": {},
   "outputs": [],
   "source": [
    "import pandas as pd\n",
    "import numpy as np\n",
    "import matplotlib.pyplot as plt"
   ]
  },
  {
   "attachments": {},
   "cell_type": "markdown",
   "metadata": {},
   "source": [
    "## Exercise 3: Machine Learning\n",
    "\n",
    "It was found to be hard to find meaningful correlations of Rm and A with the chemical compositions based on the qualitative data analysis methods employed before. Therefore, you now want to use the steel data to build a ML model that predicts Rm and A based on the steel chemistry and can subsequently be used to find the optimal composition for the given requirements.\n",
    "\n",
    "First, scale your data using the `RobustScaler`.\n",
    "\n",
    "Second, train and test a Support Vector Regression ML model to predict Rm and A based on the chemical composition using the default hyper-parameters for `gamma` and `alpha` and using 85% of data for training and 15% for testing. Determine the R2 score, the pearson correlation coefficient, and the mean absolute error (MAE) - on both train and test data sets.\n",
    "\n",
    "Next, use `GridSearchCV` to find the optimal set of hyper-parameters using 3-fold cross validation. Also in this case, determine the metrics above mentioned (R2, ...).\n",
    "\n",
    "Finally, plot the results for the optimal set of hyper-parameters as a \"true vs. predicted\" plot."
   ]
  },
  {
   "cell_type": "markdown",
   "metadata": {},
   "source": []
  }
 ],
 "metadata": {
  "kernelspec": {
   "display_name": "Python 3",
   "language": "python",
   "name": "python3"
  },
  "language_info": {
   "codemirror_mode": {
    "name": "ipython",
    "version": 3
   },
   "file_extension": ".py",
   "mimetype": "text/x-python",
   "name": "python",
   "nbconvert_exporter": "python",
   "pygments_lexer": "ipython3",
   "version": "3.8.9"
  }
 },
 "nbformat": 4,
 "nbformat_minor": 2
}
