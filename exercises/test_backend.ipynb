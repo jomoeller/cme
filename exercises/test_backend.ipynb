{
 "cells": [
  {
   "cell_type": "code",
   "execution_count": 2,
   "id": "a619fdb8",
   "metadata": {},
   "outputs": [
    {
     "name": "stderr",
     "output_type": "stream",
     "text": [
      "C:\\Users\\moelljha\\AppData\\Local\\Programs\\Python\\Python310\\lib\\site-packages\\sklearn\\base.py:329: UserWarning: Trying to unpickle estimator RobustScaler from version 1.1.1 when using version 1.1.2. This might lead to breaking code or invalid results. Use at your own risk. For more info please refer to:\n",
      "https://scikit-learn.org/stable/model_persistence.html#security-maintainability-limitations\n",
      "  warnings.warn(\n",
      "C:\\Users\\moelljha\\AppData\\Local\\Programs\\Python\\Python310\\lib\\site-packages\\sklearn\\base.py:329: UserWarning: Trying to unpickle estimator SVR from version 1.1.1 when using version 1.1.2. This might lead to breaking code or invalid results. Use at your own risk. For more info please refer to:\n",
      "https://scikit-learn.org/stable/model_persistence.html#security-maintainability-limitations\n",
      "  warnings.warn(\n",
      "C:\\Users\\moelljha\\AppData\\Local\\Programs\\Python\\Python310\\lib\\site-packages\\sklearn\\base.py:329: UserWarning: Trying to unpickle estimator GridSearchCV from version 1.1.1 when using version 1.1.2. This might lead to breaking code or invalid results. Use at your own risk. For more info please refer to:\n",
      "https://scikit-learn.org/stable/model_persistence.html#security-maintainability-limitations\n",
      "  warnings.warn(\n"
     ]
    }
   ],
   "source": [
    "from backend import backend"
   ]
  },
  {
   "cell_type": "code",
   "execution_count": 3,
   "id": "02e8c552",
   "metadata": {},
   "outputs": [
    {
     "data": {
      "text/plain": [
       "((),\n",
       " {'c(Fe) (%)': 91,\n",
       "  'c(C) (%)': 1,\n",
       "  'c(N) (%)': 1,\n",
       "  'c(Cr) (%)': 1,\n",
       "  'c(Ni) (%)': 1,\n",
       "  'c(Mo) (%)': 1,\n",
       "  'c(Al) (%)': 1,\n",
       "  'c(Mn) (%)': 1,\n",
       "  'c(Cu) (%)': 1,\n",
       "  'c(Si) (%)': 1})"
      ]
     },
     "execution_count": 3,
     "metadata": {},
     "output_type": "execute_result"
    }
   ],
   "source": [
    "chemical_composition = {'c(Fe) (%)': 91, 'c(C) (%)':1, 'c(N) (%)':1, 'c(Cr) (%)':1, 'c(Ni) (%)':1,\n",
    "       'c(Mo) (%)':1, 'c(Al) (%)':1, 'c(Mn) (%)':1, 'c(Cu) (%)':1, 'c(Si) (%)':1}\n",
    "backend(**chemical_composition)"
   ]
  },
  {
   "cell_type": "code",
   "execution_count": null,
   "id": "f3e55b23",
   "metadata": {},
   "outputs": [],
   "source": []
  }
 ],
 "metadata": {
  "kernelspec": {
   "display_name": "Python 3 (ipykernel)",
   "language": "python",
   "name": "python3"
  },
  "language_info": {
   "codemirror_mode": {
    "name": "ipython",
    "version": 3
   },
   "file_extension": ".py",
   "mimetype": "text/x-python",
   "name": "python",
   "nbconvert_exporter": "python",
   "pygments_lexer": "ipython3",
   "version": "3.10.7"
  }
 },
 "nbformat": 4,
 "nbformat_minor": 5
}
