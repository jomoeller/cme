{
 "cells": [
  {
   "cell_type": "code",
   "execution_count": 1,
   "metadata": {},
   "outputs": [],
   "source": [
    "import pandas as pd\n",
    "import sqlite3\n",
    "import sys\n",
    "import matplotlib.pyplot as plt\n",
    "sys.path.append(\"/path/to/folder\")\n",
    "from cme import connect_steel_data"
   ]
  },
  {
   "attachments": {},
   "cell_type": "markdown",
   "metadata": {},
   "source": [
    "## Exercise 1: Data extraction\n",
    "In a materials-development project, you need to find a steel having at least 1000 MPa ultimate tensile strength (UTS, Rm) and 25 % elongation at fracture. In your company's material portfolio, there does not exist such a material. In the first step, you therefore explore the data provided by a steel manufacturer (in the sqlite database `cme/steel-data.sql`) to find steels fullfilling the above mentioned requirements. \n",
    "\n",
    "Hint: You can load a table from the database, as follows:\n",
    "```\n",
    "with connect_steel_data() as c:\n",
    "    df = pd.read_sql('SELECT * FROM \"<TABLE_NAME>\"', c)\n",
    "```\n",
    "\n",
    "Create also a plot of UTS (Rm) vs. fracture elongation (A) for documentation and presentation of your work to your project sponsors.\n",
    "\n",
    "Save the data of your consolidated table in a format of your choice (csv, xls, json) for later re-use."
   ]
  }
 ],
 "metadata": {
  "kernelspec": {
   "display_name": "Python 3",
   "language": "python",
   "name": "python3"
  },
  "language_info": {
   "codemirror_mode": {
    "name": "ipython",
    "version": 3
   },
   "file_extension": ".py",
   "mimetype": "text/x-python",
   "name": "python",
   "nbconvert_exporter": "python",
   "pygments_lexer": "ipython3",
   "version": "3.8.9"
  }
 },
 "nbformat": 4,
 "nbformat_minor": 2
}
