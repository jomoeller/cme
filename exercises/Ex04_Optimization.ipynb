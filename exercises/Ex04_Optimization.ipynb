{
 "cells": [
  {
   "cell_type": "code",
   "execution_count": 8,
   "metadata": {},
   "outputs": [],
   "source": [
    "import pickle\n",
    "import numpy as np\n",
    "from scipy.optimize import minimize\n",
    "from scipy.optimize import LinearConstraint"
   ]
  },
  {
   "attachments": {},
   "cell_type": "markdown",
   "metadata": {},
   "source": [
    "# Exercise 4: Optimization\n",
    "\n",
    "Now we have developed ML models for A and Rm - so let's use them to find the optimal composition to reach our target: Rm $\\ge$ 1000 MPa and A $\\ge$ 25 %. \n",
    "\n",
    "First, load the scaler and ML models used in the previous exercise. \n",
    "\n",
    "Then, define a function `fun` to be minimized by `scipy.optimize.minimize`. \n",
    "\n",
    "Afterwards, determine the initial guess `x0` for the minimization problem.\n",
    "\n",
    "Now, run the optimization of the function `fun` using the optimization method `trust-constr`. Keep in mind, that the sum of elements should be 100 wt.% and that the concentration of each element can vary between 0 and 100 (wt.%)."
   ]
  },
  {
   "cell_type": "markdown",
   "metadata": {},
   "source": []
  }
 ],
 "metadata": {
  "kernelspec": {
   "display_name": "Python 3",
   "language": "python",
   "name": "python3"
  },
  "language_info": {
   "codemirror_mode": {
    "name": "ipython",
    "version": 3
   },
   "file_extension": ".py",
   "mimetype": "text/x-python",
   "name": "python",
   "nbconvert_exporter": "python",
   "pygments_lexer": "ipython3",
   "version": "3.8.9"
  },
  "orig_nbformat": 4
 },
 "nbformat": 4,
 "nbformat_minor": 2
}
