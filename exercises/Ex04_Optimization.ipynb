{
 "cells": [
  {
   "cell_type": "code",
   "execution_count": 1,
   "metadata": {},
   "outputs": [],
   "source": [
    "import pickle\n",
    "import numpy as np\n",
    "from scipy.optimize import minimize\n",
    "from scipy.optimize import LinearConstraint"
   ]
  },
  {
   "attachments": {},
   "cell_type": "markdown",
   "metadata": {},
   "source": [
    "# Exercise 4: Optimization\n",
    "\n",
    "Now we have developed ML models for A and Rm - so let's use them to find the optimal composition to reach our target: Rm $\\ge$ 1000 MPa and A $\\ge$ 25 %. \n",
    "\n",
    "First, load the scaler and ML models used in the previous exercise. \n",
    "\n",
    "Then, define a function `fun` to be minimized by `scipy.optimize.minimize`. \n",
    "\n",
    "Afterwards, determine the initial guess `x0` for the minimization problem.\n",
    "\n",
    "Now, run the optimization of the function `fun` using the optimization method `trust-constr`. Keep in mind, that the sum of elements should be 100 wt.% and that the concentration of each element can vary between 0 and 100 (wt.%)."
   ]
  },
  {
   "cell_type": "code",
   "execution_count": 3,
   "metadata": {},
   "outputs": [],
   "source": [
    "scaler = pickle.load(open(\"scaler.pickle\", \"rb\"))\n",
    "model_A = pickle.load(open(\"model_A.pickle\", \"rb\"))\n",
    "model_Rm = pickle.load(open(\"model_Rm.pickle\", \"rb\"))\n"
   ]
  },
  {
   "cell_type": "code",
   "execution_count": 4,
   "metadata": {},
   "outputs": [],
   "source": [
    "def fun(composition):\n",
    "    _composition = scaler.transform([composition])\n",
    "    return - model_A.predict(_composition) * model_Rm.predict(_composition)**4"
   ]
  },
  {
   "cell_type": "code",
   "execution_count": 7,
   "metadata": {},
   "outputs": [
    {
     "name": "stdout",
     "output_type": "stream",
     "text": [
      "[[7.968e+01 2.000e-02 0.000e+00 1.550e+01 4.800e+00 0.000e+00 0.000e+00\n",
      "  0.000e+00 3.400e+00 0.000e+00]]\n",
      "[-3.31978413e+13]\n",
      "[22.68283581]\n",
      "[1099.89980219]\n"
     ]
    }
   ],
   "source": [
    "res = np.inf\n",
    "for i in range(model_A.best_estimator_.n_support_[0]):\n",
    "    _x0 = model_A.best_estimator_.support_vectors_[i]\n",
    "    _res = fun(scaler.inverse_transform([_x0])[0])\n",
    "    if _res < res:\n",
    "        res = _res\n",
    "        x0 = _x0\n",
    "print(scaler.inverse_transform([x0]))\n",
    "print(res)\n",
    "print(model_A.predict([x0]))\n",
    "print(model_Rm.predict([x0]))"
   ]
  },
  {
   "cell_type": "code",
   "execution_count": 10,
   "metadata": {},
   "outputs": [],
   "source": [
    "popt = minimize(fun, x0=scaler.inverse_transform([x0])[0],\n",
    "                method=\"trust-constr\", bounds=[(0,100)]*len(x0),\n",
    "                constraints=LinearConstraint(np.array([1.]*10), 99, 101))"
   ]
  },
  {
   "cell_type": "code",
   "execution_count": 11,
   "metadata": {},
   "outputs": [
    {
     "data": {
      "text/plain": [
       " barrier_parameter: 2.048000000000001e-09\n",
       " barrier_tolerance: 2.048000000000001e-09\n",
       "          cg_niter: 1948\n",
       "      cg_stop_cond: 2\n",
       "            constr: [array([101.]), array([7.76656809e+01, 1.97536631e-02, 1.29536891e-03, 1.54798052e+01,\n",
       "       4.42843196e+00, 3.49916829e-11, 3.38431428e-11, 3.87025937e-02,\n",
       "       3.35828762e+00, 8.04267040e-03])]\n",
       "       constr_nfev: [0, 0]\n",
       "       constr_nhev: [0, 0]\n",
       "       constr_njev: [0, 0]\n",
       "    constr_penalty: 1.0\n",
       "  constr_violation: 0.0\n",
       "    execution_time: 8.853141069412231\n",
       "               fun: array([-3.27423485e+13])\n",
       "              grad: array([-7.46317351e+11, -7.46151739e+11, -7.46312172e+11, -7.46317084e+11,\n",
       "       -7.46315570e+11,  1.45320758e+12,  1.50112803e+12, -7.46315579e+11,\n",
       "       -7.46315000e+11, -7.46310599e+11])\n",
       "               jac: [array([[1., 1., 1., 1., 1., 1., 1., 1., 1., 1.]]), array([[1., 0., 0., 0., 0., 0., 0., 0., 0., 0.],\n",
       "       [0., 1., 0., 0., 0., 0., 0., 0., 0., 0.],\n",
       "       [0., 0., 1., 0., 0., 0., 0., 0., 0., 0.],\n",
       "       [0., 0., 0., 1., 0., 0., 0., 0., 0., 0.],\n",
       "       [0., 0., 0., 0., 1., 0., 0., 0., 0., 0.],\n",
       "       [0., 0., 0., 0., 0., 1., 0., 0., 0., 0.],\n",
       "       [0., 0., 0., 0., 0., 0., 1., 0., 0., 0.],\n",
       "       [0., 0., 0., 0., 0., 0., 0., 1., 0., 0.],\n",
       "       [0., 0., 0., 0., 0., 0., 0., 0., 1., 0.],\n",
       "       [0., 0., 0., 0., 0., 0., 0., 0., 0., 1.]])]\n",
       "   lagrangian_grad: array([-1.08079349e+06,  6.41750772e+04,  6.87238683e+00, -8.13030888e+05,\n",
       "        6.63794666e+05,  4.88281250e-04,  9.76562500e-04,  1.02943084e+03,\n",
       "        1.16445165e+06,  3.66673811e+02])\n",
       "           message: '`xtol` termination condition is satisfied.'\n",
       "            method: 'tr_interior_point'\n",
       "              nfev: 4125\n",
       "              nhev: 0\n",
       "               nit: 249\n",
       "             niter: 249\n",
       "              njev: 375\n",
       "        optimality: 1164451.650225237\n",
       "            status: 2\n",
       "           success: True\n",
       "         tr_radius: array([1.69041644e-09])\n",
       "                 v: [array([7.46316268e+11]), array([ 2.34587041e+03, -1.64464108e+08, -4.09614852e+06,  3.50675056e+03,\n",
       "       -3.39207353e+04, -2.19952385e+12, -2.24744430e+12, -6.87253963e+05,\n",
       "       -1.03373638e+05, -5.66865272e+06])]\n",
       "                 x: array([7.76656809e+01, 1.97536631e-02, 1.29536891e-03, 1.54798052e+01,\n",
       "       4.42843196e+00, 3.49916829e-11, 3.38431428e-11, 3.87025937e-02,\n",
       "       3.35828762e+00, 8.04267040e-03])"
      ]
     },
     "execution_count": 11,
     "metadata": {},
     "output_type": "execute_result"
    }
   ],
   "source": [
    "popt"
   ]
  },
  {
   "cell_type": "code",
   "execution_count": 15,
   "metadata": {},
   "outputs": [
    {
     "name": "stdout",
     "output_type": "stream",
     "text": [
      "{'c(Fe) (%)': 77.67, 'c(C) (%)': 0.02, 'c(N) (%)': 0.0, 'c(Cr) (%)': 15.48, 'c(Ni) (%)': 4.43, 'c(Mo) (%)': 0.0, 'c(Al) (%)': 0.0, 'c(Mn) (%)': 0.04, 'c(Cu) (%)': 3.36, 'c(Si) (%)': 0.01}\n",
      "A [24.18611903]\n",
      "Rm [1078.66331869]\n"
     ]
    }
   ],
   "source": [
    "opt_x = {el: round(xi, 2) for el, xi in zip(['c(Fe) (%)', 'c(C) (%)', 'c(N) (%)', 'c(Cr) (%)', 'c(Ni) (%)',\n",
    "       'c(Mo) (%)', 'c(Al) (%)', 'c(Mn) (%)', 'c(Cu) (%)', 'c(Si) (%)'], popt.x)}\n",
    "print(opt_x)\n",
    "x_ = scaler.transform([popt.x])\n",
    "print(\"A\", model_A.predict(x_))\n",
    "print(\"Rm\", model_Rm.predict(x_))"
   ]
  },
  {
   "cell_type": "code",
   "execution_count": 13,
   "metadata": {},
   "outputs": [
    {
     "data": {
      "text/plain": [
       "{'c(Fe) (%)': 77.67,\n",
       " 'c(C) (%)': 0.02,\n",
       " 'c(N) (%)': 0.0,\n",
       " 'c(Cr) (%)': 15.48,\n",
       " 'c(Ni) (%)': 4.43,\n",
       " 'c(Mo) (%)': 0.0,\n",
       " 'c(Al) (%)': 0.0,\n",
       " 'c(Mn) (%)': 0.04,\n",
       " 'c(Cu) (%)': 3.36,\n",
       " 'c(Si) (%)': 0.01}"
      ]
     },
     "execution_count": 13,
     "metadata": {},
     "output_type": "execute_result"
    }
   ],
   "source": []
  },
  {
   "cell_type": "code",
   "execution_count": null,
   "metadata": {},
   "outputs": [],
   "source": []
  }
 ],
 "metadata": {
  "kernelspec": {
   "display_name": "Python 3",
   "language": "python",
   "name": "python3"
  },
  "language_info": {
   "codemirror_mode": {
    "name": "ipython",
    "version": 3
   },
   "file_extension": ".py",
   "mimetype": "text/x-python",
   "name": "python",
   "nbconvert_exporter": "python",
   "pygments_lexer": "ipython3",
   "version": "3.8.9"
  },
  "orig_nbformat": 4
 },
 "nbformat": 4,
 "nbformat_minor": 2
}
